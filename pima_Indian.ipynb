{
 "cells": [
  {
   "cell_type": "code",
   "execution_count": 1,
   "metadata": {},
   "outputs": [
    {
     "data": {
      "text/html": [
       "<div>\n",
       "<style scoped>\n",
       "    .dataframe tbody tr th:only-of-type {\n",
       "        vertical-align: middle;\n",
       "    }\n",
       "\n",
       "    .dataframe tbody tr th {\n",
       "        vertical-align: top;\n",
       "    }\n",
       "\n",
       "    .dataframe thead th {\n",
       "        text-align: right;\n",
       "    }\n",
       "</style>\n",
       "<table border=\"1\" class=\"dataframe\">\n",
       "  <thead>\n",
       "    <tr style=\"text-align: right;\">\n",
       "      <th></th>\n",
       "      <th>pregnant</th>\n",
       "      <th>plasma</th>\n",
       "      <th>pressure</th>\n",
       "      <th>thickness</th>\n",
       "      <th>insulin</th>\n",
       "      <th>BMI</th>\n",
       "      <th>pedigree</th>\n",
       "      <th>age</th>\n",
       "      <th>class</th>\n",
       "    </tr>\n",
       "  </thead>\n",
       "  <tbody>\n",
       "    <tr>\n",
       "      <td>0</td>\n",
       "      <td>6</td>\n",
       "      <td>148</td>\n",
       "      <td>72</td>\n",
       "      <td>35</td>\n",
       "      <td>0</td>\n",
       "      <td>33.6</td>\n",
       "      <td>0.627</td>\n",
       "      <td>50</td>\n",
       "      <td>1</td>\n",
       "    </tr>\n",
       "    <tr>\n",
       "      <td>1</td>\n",
       "      <td>1</td>\n",
       "      <td>85</td>\n",
       "      <td>66</td>\n",
       "      <td>29</td>\n",
       "      <td>0</td>\n",
       "      <td>26.6</td>\n",
       "      <td>0.351</td>\n",
       "      <td>31</td>\n",
       "      <td>0</td>\n",
       "    </tr>\n",
       "    <tr>\n",
       "      <td>2</td>\n",
       "      <td>8</td>\n",
       "      <td>183</td>\n",
       "      <td>64</td>\n",
       "      <td>0</td>\n",
       "      <td>0</td>\n",
       "      <td>23.3</td>\n",
       "      <td>0.672</td>\n",
       "      <td>32</td>\n",
       "      <td>1</td>\n",
       "    </tr>\n",
       "    <tr>\n",
       "      <td>3</td>\n",
       "      <td>1</td>\n",
       "      <td>89</td>\n",
       "      <td>66</td>\n",
       "      <td>23</td>\n",
       "      <td>94</td>\n",
       "      <td>28.1</td>\n",
       "      <td>0.167</td>\n",
       "      <td>21</td>\n",
       "      <td>0</td>\n",
       "    </tr>\n",
       "    <tr>\n",
       "      <td>4</td>\n",
       "      <td>0</td>\n",
       "      <td>137</td>\n",
       "      <td>40</td>\n",
       "      <td>35</td>\n",
       "      <td>168</td>\n",
       "      <td>43.1</td>\n",
       "      <td>2.288</td>\n",
       "      <td>33</td>\n",
       "      <td>1</td>\n",
       "    </tr>\n",
       "  </tbody>\n",
       "</table>\n",
       "</div>"
      ],
      "text/plain": [
       "   pregnant  plasma  pressure  thickness  insulin   BMI  pedigree  age  class\n",
       "0         6     148        72         35        0  33.6     0.627   50      1\n",
       "1         1      85        66         29        0  26.6     0.351   31      0\n",
       "2         8     183        64          0        0  23.3     0.672   32      1\n",
       "3         1      89        66         23       94  28.1     0.167   21      0\n",
       "4         0     137        40         35      168  43.1     2.288   33      1"
      ]
     },
     "execution_count": 1,
     "metadata": {},
     "output_type": "execute_result"
    }
   ],
   "source": [
    "import pandas as pd\n",
    "import numpy as np\n",
    "import matplotlib.pyplot as plt\n",
    "import seaborn as sns\n",
    "import warnings\n",
    "\n",
    "%matplotlib inline\n",
    "plt.style.use('seaborn')\n",
    "warnings.filterwarnings('ignore')\n",
    "COLOR = 'white'\n",
    "\n",
    "#배경을 어두운것을 쓰기 때문에 char, label 색상 변경\n",
    "plt.rcParams['text.color'] = COLOR\n",
    "plt.rcParams['axes.labelcolor'] = COLOR\n",
    "plt.rcParams['xtick.color'] = COLOR\n",
    "plt.rcParams['ytick.color'] = COLOR\n",
    "\n",
    "df = pd.read_csv('pima-indians-diabetes.csv',\n",
    "\n",
    "                  names = ['pregnant', 'plasma', 'pressure', 'thickness',\n",
    "                  'insulin', 'BMI', 'pedigree', 'age', 'class'])\n",
    "df.head()"
   ]
  },
  {
   "cell_type": "code",
   "execution_count": 2,
   "metadata": {},
   "outputs": [
    {
     "data": {
      "text/plain": [
       "pregnant     0\n",
       "plasma       0\n",
       "pressure     0\n",
       "thickness    0\n",
       "insulin      0\n",
       "BMI          0\n",
       "pedigree     0\n",
       "age          0\n",
       "class        0\n",
       "dtype: int64"
      ]
     },
     "execution_count": 2,
     "metadata": {},
     "output_type": "execute_result"
    }
   ],
   "source": [
    "df.isnull().sum()"
   ]
  },
  {
   "cell_type": "code",
   "execution_count": 3,
   "metadata": {},
   "outputs": [
    {
     "name": "stdout",
     "output_type": "stream",
     "text": [
      "<class 'pandas.core.frame.DataFrame'>\n",
      "RangeIndex: 768 entries, 0 to 767\n",
      "Data columns (total 9 columns):\n",
      "pregnant     768 non-null int64\n",
      "plasma       768 non-null int64\n",
      "pressure     768 non-null int64\n",
      "thickness    768 non-null int64\n",
      "insulin      768 non-null int64\n",
      "BMI          768 non-null float64\n",
      "pedigree     768 non-null float64\n",
      "age          768 non-null int64\n",
      "class        768 non-null int64\n",
      "dtypes: float64(2), int64(7)\n",
      "memory usage: 54.1 KB\n"
     ]
    }
   ],
   "source": [
    "df.info()"
   ]
  },
  {
   "cell_type": "code",
   "execution_count": 4,
   "metadata": {},
   "outputs": [
    {
     "data": {
      "text/plain": [
       "pregnant       int64\n",
       "plasma         int64\n",
       "pressure       int64\n",
       "thickness      int64\n",
       "insulin        int64\n",
       "BMI          float64\n",
       "pedigree     float64\n",
       "age            int64\n",
       "class          int64\n",
       "dtype: object"
      ]
     },
     "execution_count": 4,
     "metadata": {},
     "output_type": "execute_result"
    }
   ],
   "source": [
    "df.dtypes"
   ]
  },
  {
   "cell_type": "code",
   "execution_count": 5,
   "metadata": {},
   "outputs": [
    {
     "data": {
      "image/png": "[encoded data removed]",
      "text/plain": [
       "<Figure size 864x576 with 2 Axes>"
      ]
     },
     "metadata": {
      "needs_background": "dark"
     },
     "output_type": "display_data"
    }
   ],
   "source": [
    "f, ax = plt.subplots(1,2, figsize=(12,8))\n",
    "df['class'].value_counts().plot.pie(explode=[0, 0.1], autopct='%1.1f%%', ax=ax[0], shadow=True)\n",
    "ax[0].set_title('Pima-Indian Diabete')\n",
    "sns.countplot('class', data=df, ax=ax[1])\n",
    "ax[1].set_title('Pima-Indian Diabete')\n",
    "plt.show()"
   ]
  },
  {
   "cell_type": "code",
   "execution_count": 6,
   "metadata": {
    "scrolled": true
   },
   "outputs": [
    {
     "data": {
      "image/png": "[encoded data removed]",
      "text/plain": [
       "<Figure size 720x576 with 2 Axes>"
      ]
     },
     "metadata": {
      "needs_background": "dark"
     },
     "output_type": "display_data"
    }
   ],
   "source": [
    "sns.heatmap(df.corr(), annot=True, cmap='RdYlGn', linewidth=0.2)\n",
    "fig = plt.gcf()\n",
    "fig.set_size_inches(10,8)\n",
    "plt.show()"
   ]
  },
  {
   "cell_type": "code",
   "execution_count": 7,
   "metadata": {},
   "outputs": [],
   "source": [
    "from sklearn.model_selection import train_test_split\n",
    "from sklearn.metrics import mean_squared_error\n",
    "from math import sqrt\n",
    "from sklearn import svm\n",
    "from sklearn import metrics\n",
    "\n",
    "from sklearn.linear_model import LogisticRegression\n",
    "from sklearn.ensemble import RandomForestClassifier\n",
    "from sklearn.neighbors import KNeighborsClassifier\n",
    "from sklearn.naive_bayes import GaussianNB\n",
    "from sklearn.tree import DecisionTreeClassifier\n",
    "from sklearn.metrics import confusion_matrix\n",
    "from sklearn.preprocessing import StandardScaler\n",
    "from sklearn import decomposition\n"
   ]
  },
  {
   "cell_type": "code",
   "execution_count": 8,
   "metadata": {},
   "outputs": [],
   "source": [
    "X=df[df.columns[:8]]\n",
    "Y=df['class']"
   ]
  },
  {
   "cell_type": "code",
   "execution_count": 9,
   "metadata": {},
   "outputs": [
    {
     "data": {
      "text/html": [
       "<div>\n",
       "<style scoped>\n",
       "    .dataframe tbody tr th:only-of-type {\n",
       "        vertical-align: middle;\n",
       "    }\n",
       "\n",
       "    .dataframe tbody tr th {\n",
       "        vertical-align: top;\n",
       "    }\n",
       "\n",
       "    .dataframe thead th {\n",
       "        text-align: right;\n",
       "    }\n",
       "</style>\n",
       "<table border=\"1\" class=\"dataframe\">\n",
       "  <thead>\n",
       "    <tr style=\"text-align: right;\">\n",
       "      <th></th>\n",
       "      <th>pregnant</th>\n",
       "      <th>plasma</th>\n",
       "      <th>pressure</th>\n",
       "      <th>thickness</th>\n",
       "      <th>insulin</th>\n",
       "      <th>BMI</th>\n",
       "      <th>pedigree</th>\n",
       "      <th>age</th>\n",
       "    </tr>\n",
       "  </thead>\n",
       "  <tbody>\n",
       "    <tr>\n",
       "      <td>0</td>\n",
       "      <td>1.068503</td>\n",
       "      <td>1.234895</td>\n",
       "      <td>0.095930</td>\n",
       "      <td>0.496990</td>\n",
       "      <td>-0.109985</td>\n",
       "      <td>0.357183</td>\n",
       "      <td>0.858821</td>\n",
       "      <td>0.974304</td>\n",
       "    </tr>\n",
       "    <tr>\n",
       "      <td>1</td>\n",
       "      <td>-1.121683</td>\n",
       "      <td>-0.733852</td>\n",
       "      <td>-0.712938</td>\n",
       "      <td>0.285056</td>\n",
       "      <td>-0.389507</td>\n",
       "      <td>-0.406329</td>\n",
       "      <td>0.757034</td>\n",
       "      <td>0.354215</td>\n",
       "    </tr>\n",
       "    <tr>\n",
       "      <td>2</td>\n",
       "      <td>-0.396477</td>\n",
       "      <td>1.595876</td>\n",
       "      <td>1.760678</td>\n",
       "      <td>-0.070395</td>\n",
       "      <td>0.906474</td>\n",
       "      <td>-0.040018</td>\n",
       "      <td>-1.152990</td>\n",
       "      <td>1.068528</td>\n",
       "    </tr>\n",
       "    <tr>\n",
       "      <td>3</td>\n",
       "      <td>-1.115781</td>\n",
       "      <td>-1.271241</td>\n",
       "      <td>-0.663729</td>\n",
       "      <td>-0.579123</td>\n",
       "      <td>-0.356060</td>\n",
       "      <td>-0.412520</td>\n",
       "      <td>-0.029247</td>\n",
       "      <td>-0.130648</td>\n",
       "    </tr>\n",
       "    <tr>\n",
       "      <td>4</td>\n",
       "      <td>2.359334</td>\n",
       "      <td>-2.184819</td>\n",
       "      <td>2.963107</td>\n",
       "      <td>4.033099</td>\n",
       "      <td>0.592684</td>\n",
       "      <td>1.078341</td>\n",
       "      <td>0.549358</td>\n",
       "      <td>-0.319352</td>\n",
       "    </tr>\n",
       "    <tr>\n",
       "      <td>...</td>\n",
       "      <td>...</td>\n",
       "      <td>...</td>\n",
       "      <td>...</td>\n",
       "      <td>...</td>\n",
       "      <td>...</td>\n",
       "      <td>...</td>\n",
       "      <td>...</td>\n",
       "      <td>...</td>\n",
       "    </tr>\n",
       "    <tr>\n",
       "      <td>763</td>\n",
       "      <td>1.562085</td>\n",
       "      <td>1.923150</td>\n",
       "      <td>-0.867408</td>\n",
       "      <td>-0.390926</td>\n",
       "      <td>-2.541527</td>\n",
       "      <td>-0.077322</td>\n",
       "      <td>1.141357</td>\n",
       "      <td>-0.138590</td>\n",
       "    </tr>\n",
       "    <tr>\n",
       "      <td>764</td>\n",
       "      <td>-0.100405</td>\n",
       "      <td>-0.614181</td>\n",
       "      <td>-0.764353</td>\n",
       "      <td>-0.134859</td>\n",
       "      <td>0.499290</td>\n",
       "      <td>0.529339</td>\n",
       "      <td>0.152109</td>\n",
       "      <td>0.467532</td>\n",
       "    </tr>\n",
       "    <tr>\n",
       "      <td>765</td>\n",
       "      <td>-0.283475</td>\n",
       "      <td>0.097065</td>\n",
       "      <td>-0.077192</td>\n",
       "      <td>-0.687561</td>\n",
       "      <td>-0.523009</td>\n",
       "      <td>-0.538270</td>\n",
       "      <td>-0.335563</td>\n",
       "      <td>0.289439</td>\n",
       "    </tr>\n",
       "    <tr>\n",
       "      <td>766</td>\n",
       "      <td>-1.060324</td>\n",
       "      <td>0.837062</td>\n",
       "      <td>0.425030</td>\n",
       "      <td>-0.204493</td>\n",
       "      <td>0.957593</td>\n",
       "      <td>0.153307</td>\n",
       "      <td>1.180308</td>\n",
       "      <td>-0.534344</td>\n",
       "    </tr>\n",
       "    <tr>\n",
       "      <td>767</td>\n",
       "      <td>-0.839892</td>\n",
       "      <td>-1.151755</td>\n",
       "      <td>-1.009178</td>\n",
       "      <td>0.086929</td>\n",
       "      <td>-0.082651</td>\n",
       "      <td>-0.150096</td>\n",
       "      <td>0.245235</td>\n",
       "      <td>0.515946</td>\n",
       "    </tr>\n",
       "  </tbody>\n",
       "</table>\n",
       "<p>768 rows × 8 columns</p>\n",
       "</div>"
      ],
      "text/plain": [
       "     pregnant    plasma  pressure  thickness   insulin       BMI  pedigree  \\\n",
       "0    1.068503  1.234895  0.095930   0.496990 -0.109985  0.357183  0.858821   \n",
       "1   -1.121683 -0.733852 -0.712938   0.285056 -0.389507 -0.406329  0.757034   \n",
       "2   -0.396477  1.595876  1.760678  -0.070395  0.906474 -0.040018 -1.152990   \n",
       "3   -1.115781 -1.271241 -0.663729  -0.579123 -0.356060 -0.412520 -0.029247   \n",
       "4    2.359334 -2.184819  2.963107   4.033099  0.592684  1.078341  0.549358   \n",
       "..        ...       ...       ...        ...       ...       ...       ...   \n",
       "763  1.562085  1.923150 -0.867408  -0.390926 -2.541527 -0.077322  1.141357   \n",
       "764 -0.100405 -0.614181 -0.764353  -0.134859  0.499290  0.529339  0.152109   \n",
       "765 -0.283475  0.097065 -0.077192  -0.687561 -0.523009 -0.538270 -0.335563   \n",
       "766 -1.060324  0.837062  0.425030  -0.204493  0.957593  0.153307  1.180308   \n",
       "767 -0.839892 -1.151755 -1.009178   0.086929 -0.082651 -0.150096  0.245235   \n",
       "\n",
       "          age  \n",
       "0    0.974304  \n",
       "1    0.354215  \n",
       "2    1.068528  \n",
       "3   -0.130648  \n",
       "4   -0.319352  \n",
       "..        ...  \n",
       "763 -0.138590  \n",
       "764  0.467532  \n",
       "765  0.289439  \n",
       "766 -0.534344  \n",
       "767  0.515946  \n",
       "\n",
       "[768 rows x 8 columns]"
      ]
     },
     "execution_count": 9,
     "metadata": {},
     "output_type": "execute_result"
    }
   ],
   "source": [
    "# Standardization\n",
    "x_std = StandardScaler().fit_transform(X)\n",
    "\n",
    "pca = decomposition.PCA(n_components=8)\n",
    "sklearn_pca_x = pca.fit_transform(x_std)\n",
    "\n",
    "sklearn_result = pd.DataFrame(sklearn_pca_x, columns = ['pregnant', 'plasma', 'pressure', 'thickness',\n",
    "                  'insulin', 'BMI', 'pedigree', 'age'])\n",
    "sklearn_result"
   ]
  },
  {
   "cell_type": "code",
   "execution_count": 10,
   "metadata": {
    "scrolled": false
   },
   "outputs": [
    {
     "data": {
      "text/html": [
       "<div>\n",
       "<style scoped>\n",
       "    .dataframe tbody tr th:only-of-type {\n",
       "        vertical-align: middle;\n",
       "    }\n",
       "\n",
       "    .dataframe tbody tr th {\n",
       "        vertical-align: top;\n",
       "    }\n",
       "\n",
       "    .dataframe thead th {\n",
       "        text-align: right;\n",
       "    }\n",
       "</style>\n",
       "<table border=\"1\" class=\"dataframe\">\n",
       "  <thead>\n",
       "    <tr style=\"text-align: right;\">\n",
       "      <th></th>\n",
       "      <th>pregnant</th>\n",
       "      <th>plasma</th>\n",
       "      <th>pressure</th>\n",
       "      <th>thickness</th>\n",
       "      <th>insulin</th>\n",
       "      <th>BMI</th>\n",
       "      <th>pedigree</th>\n",
       "      <th>age</th>\n",
       "    </tr>\n",
       "  </thead>\n",
       "  <tbody>\n",
       "    <tr>\n",
       "      <td>0</td>\n",
       "      <td>1.068503</td>\n",
       "      <td>1.234895</td>\n",
       "      <td>0.095930</td>\n",
       "      <td>0.496990</td>\n",
       "      <td>-0.109985</td>\n",
       "      <td>0.357183</td>\n",
       "      <td>0.858821</td>\n",
       "      <td>0.974304</td>\n",
       "    </tr>\n",
       "    <tr>\n",
       "      <td>1</td>\n",
       "      <td>-1.121683</td>\n",
       "      <td>-0.733852</td>\n",
       "      <td>-0.712938</td>\n",
       "      <td>0.285056</td>\n",
       "      <td>-0.389507</td>\n",
       "      <td>-0.406329</td>\n",
       "      <td>0.757034</td>\n",
       "      <td>0.354215</td>\n",
       "    </tr>\n",
       "    <tr>\n",
       "      <td>2</td>\n",
       "      <td>-0.396477</td>\n",
       "      <td>1.595876</td>\n",
       "      <td>1.760678</td>\n",
       "      <td>-0.070395</td>\n",
       "      <td>0.906474</td>\n",
       "      <td>-0.040018</td>\n",
       "      <td>-1.152990</td>\n",
       "      <td>1.068528</td>\n",
       "    </tr>\n",
       "    <tr>\n",
       "      <td>3</td>\n",
       "      <td>-1.115781</td>\n",
       "      <td>-1.271241</td>\n",
       "      <td>-0.663729</td>\n",
       "      <td>-0.579123</td>\n",
       "      <td>-0.356060</td>\n",
       "      <td>-0.412520</td>\n",
       "      <td>-0.029247</td>\n",
       "      <td>-0.130648</td>\n",
       "    </tr>\n",
       "    <tr>\n",
       "      <td>4</td>\n",
       "      <td>2.359334</td>\n",
       "      <td>-2.184819</td>\n",
       "      <td>2.963107</td>\n",
       "      <td>4.033099</td>\n",
       "      <td>0.592684</td>\n",
       "      <td>1.078341</td>\n",
       "      <td>0.549358</td>\n",
       "      <td>-0.319352</td>\n",
       "    </tr>\n",
       "    <tr>\n",
       "      <td>...</td>\n",
       "      <td>...</td>\n",
       "      <td>...</td>\n",
       "      <td>...</td>\n",
       "      <td>...</td>\n",
       "      <td>...</td>\n",
       "      <td>...</td>\n",
       "      <td>...</td>\n",
       "      <td>...</td>\n",
       "    </tr>\n",
       "    <tr>\n",
       "      <td>763</td>\n",
       "      <td>1.562085</td>\n",
       "      <td>1.923150</td>\n",
       "      <td>-0.867408</td>\n",
       "      <td>-0.390926</td>\n",
       "      <td>-2.541527</td>\n",
       "      <td>-0.077322</td>\n",
       "      <td>1.141357</td>\n",
       "      <td>-0.138590</td>\n",
       "    </tr>\n",
       "    <tr>\n",
       "      <td>764</td>\n",
       "      <td>-0.100405</td>\n",
       "      <td>-0.614181</td>\n",
       "      <td>-0.764353</td>\n",
       "      <td>-0.134859</td>\n",
       "      <td>0.499290</td>\n",
       "      <td>0.529339</td>\n",
       "      <td>0.152109</td>\n",
       "      <td>0.467532</td>\n",
       "    </tr>\n",
       "    <tr>\n",
       "      <td>765</td>\n",
       "      <td>-0.283475</td>\n",
       "      <td>0.097065</td>\n",
       "      <td>-0.077192</td>\n",
       "      <td>-0.687561</td>\n",
       "      <td>-0.523009</td>\n",
       "      <td>-0.538270</td>\n",
       "      <td>-0.335563</td>\n",
       "      <td>0.289439</td>\n",
       "    </tr>\n",
       "    <tr>\n",
       "      <td>766</td>\n",
       "      <td>-1.060324</td>\n",
       "      <td>0.837062</td>\n",
       "      <td>0.425030</td>\n",
       "      <td>-0.204493</td>\n",
       "      <td>0.957593</td>\n",
       "      <td>0.153307</td>\n",
       "      <td>1.180308</td>\n",
       "      <td>-0.534344</td>\n",
       "    </tr>\n",
       "    <tr>\n",
       "      <td>767</td>\n",
       "      <td>-0.839892</td>\n",
       "      <td>-1.151755</td>\n",
       "      <td>-1.009178</td>\n",
       "      <td>0.086929</td>\n",
       "      <td>-0.082651</td>\n",
       "      <td>-0.150096</td>\n",
       "      <td>0.245235</td>\n",
       "      <td>0.515946</td>\n",
       "    </tr>\n",
       "  </tbody>\n",
       "</table>\n",
       "<p>768 rows × 8 columns</p>\n",
       "</div>"
      ],
      "text/plain": [
       "     pregnant    plasma  pressure  thickness   insulin       BMI  pedigree  \\\n",
       "0    1.068503  1.234895  0.095930   0.496990 -0.109985  0.357183  0.858821   \n",
       "1   -1.121683 -0.733852 -0.712938   0.285056 -0.389507 -0.406329  0.757034   \n",
       "2   -0.396477  1.595876  1.760678  -0.070395  0.906474 -0.040018 -1.152990   \n",
       "3   -1.115781 -1.271241 -0.663729  -0.579123 -0.356060 -0.412520 -0.029247   \n",
       "4    2.359334 -2.184819  2.963107   4.033099  0.592684  1.078341  0.549358   \n",
       "..        ...       ...       ...        ...       ...       ...       ...   \n",
       "763  1.562085  1.923150 -0.867408  -0.390926 -2.541527 -0.077322  1.141357   \n",
       "764 -0.100405 -0.614181 -0.764353  -0.134859  0.499290  0.529339  0.152109   \n",
       "765 -0.283475  0.097065 -0.077192  -0.687561 -0.523009 -0.538270 -0.335563   \n",
       "766 -1.060324  0.837062  0.425030  -0.204493  0.957593  0.153307  1.180308   \n",
       "767 -0.839892 -1.151755 -1.009178   0.086929 -0.082651 -0.150096  0.245235   \n",
       "\n",
       "          age  \n",
       "0    0.974304  \n",
       "1    0.354215  \n",
       "2    1.068528  \n",
       "3   -0.130648  \n",
       "4   -0.319352  \n",
       "..        ...  \n",
       "763 -0.138590  \n",
       "764  0.467532  \n",
       "765  0.289439  \n",
       "766 -0.534344  \n",
       "767  0.515946  \n",
       "\n",
       "[768 rows x 8 columns]"
      ]
     },
     "execution_count": 10,
     "metadata": {},
     "output_type": "execute_result"
    }
   ],
   "source": [
    "mMscaled_data=sklearn_result\n",
    "mMscaled_data = pd.DataFrame(mMscaled_data)\n",
    "mMscaled_data"
   ]
  },
  {
   "cell_type": "code",
   "execution_count": 11,
   "metadata": {
    "scrolled": true
   },
   "outputs": [
    {
     "data": {
      "text/html": [
       "<div>\n",
       "<style scoped>\n",
       "    .dataframe tbody tr th:only-of-type {\n",
       "        vertical-align: middle;\n",
       "    }\n",
       "\n",
       "    .dataframe tbody tr th {\n",
       "        vertical-align: top;\n",
       "    }\n",
       "\n",
       "    .dataframe thead th {\n",
       "        text-align: right;\n",
       "    }\n",
       "</style>\n",
       "<table border=\"1\" class=\"dataframe\">\n",
       "  <thead>\n",
       "    <tr style=\"text-align: right;\">\n",
       "      <th></th>\n",
       "      <th>pregnant</th>\n",
       "      <th>plasma</th>\n",
       "      <th>pressure</th>\n",
       "      <th>thickness</th>\n",
       "      <th>insulin</th>\n",
       "      <th>BMI</th>\n",
       "      <th>pedigree</th>\n",
       "      <th>age</th>\n",
       "      <th>class</th>\n",
       "    </tr>\n",
       "  </thead>\n",
       "  <tbody>\n",
       "    <tr>\n",
       "      <td>0</td>\n",
       "      <td>1.068503</td>\n",
       "      <td>1.234895</td>\n",
       "      <td>0.095930</td>\n",
       "      <td>0.496990</td>\n",
       "      <td>-0.109985</td>\n",
       "      <td>0.357183</td>\n",
       "      <td>0.858821</td>\n",
       "      <td>0.974304</td>\n",
       "      <td>1</td>\n",
       "    </tr>\n",
       "    <tr>\n",
       "      <td>1</td>\n",
       "      <td>-1.121683</td>\n",
       "      <td>-0.733852</td>\n",
       "      <td>-0.712938</td>\n",
       "      <td>0.285056</td>\n",
       "      <td>-0.389507</td>\n",
       "      <td>-0.406329</td>\n",
       "      <td>0.757034</td>\n",
       "      <td>0.354215</td>\n",
       "      <td>0</td>\n",
       "    </tr>\n",
       "    <tr>\n",
       "      <td>2</td>\n",
       "      <td>-0.396477</td>\n",
       "      <td>1.595876</td>\n",
       "      <td>1.760678</td>\n",
       "      <td>-0.070395</td>\n",
       "      <td>0.906474</td>\n",
       "      <td>-0.040018</td>\n",
       "      <td>-1.152990</td>\n",
       "      <td>1.068528</td>\n",
       "      <td>1</td>\n",
       "    </tr>\n",
       "    <tr>\n",
       "      <td>3</td>\n",
       "      <td>-1.115781</td>\n",
       "      <td>-1.271241</td>\n",
       "      <td>-0.663729</td>\n",
       "      <td>-0.579123</td>\n",
       "      <td>-0.356060</td>\n",
       "      <td>-0.412520</td>\n",
       "      <td>-0.029247</td>\n",
       "      <td>-0.130648</td>\n",
       "      <td>0</td>\n",
       "    </tr>\n",
       "    <tr>\n",
       "      <td>4</td>\n",
       "      <td>2.359334</td>\n",
       "      <td>-2.184819</td>\n",
       "      <td>2.963107</td>\n",
       "      <td>4.033099</td>\n",
       "      <td>0.592684</td>\n",
       "      <td>1.078341</td>\n",
       "      <td>0.549358</td>\n",
       "      <td>-0.319352</td>\n",
       "      <td>1</td>\n",
       "    </tr>\n",
       "    <tr>\n",
       "      <td>...</td>\n",
       "      <td>...</td>\n",
       "      <td>...</td>\n",
       "      <td>...</td>\n",
       "      <td>...</td>\n",
       "      <td>...</td>\n",
       "      <td>...</td>\n",
       "      <td>...</td>\n",
       "      <td>...</td>\n",
       "      <td>...</td>\n",
       "    </tr>\n",
       "    <tr>\n",
       "      <td>763</td>\n",
       "      <td>1.562085</td>\n",
       "      <td>1.923150</td>\n",
       "      <td>-0.867408</td>\n",
       "      <td>-0.390926</td>\n",
       "      <td>-2.541527</td>\n",
       "      <td>-0.077322</td>\n",
       "      <td>1.141357</td>\n",
       "      <td>-0.138590</td>\n",
       "      <td>0</td>\n",
       "    </tr>\n",
       "    <tr>\n",
       "      <td>764</td>\n",
       "      <td>-0.100405</td>\n",
       "      <td>-0.614181</td>\n",
       "      <td>-0.764353</td>\n",
       "      <td>-0.134859</td>\n",
       "      <td>0.499290</td>\n",
       "      <td>0.529339</td>\n",
       "      <td>0.152109</td>\n",
       "      <td>0.467532</td>\n",
       "      <td>0</td>\n",
       "    </tr>\n",
       "    <tr>\n",
       "      <td>765</td>\n",
       "      <td>-0.283475</td>\n",
       "      <td>0.097065</td>\n",
       "      <td>-0.077192</td>\n",
       "      <td>-0.687561</td>\n",
       "      <td>-0.523009</td>\n",
       "      <td>-0.538270</td>\n",
       "      <td>-0.335563</td>\n",
       "      <td>0.289439</td>\n",
       "      <td>0</td>\n",
       "    </tr>\n",
       "    <tr>\n",
       "      <td>766</td>\n",
       "      <td>-1.060324</td>\n",
       "      <td>0.837062</td>\n",
       "      <td>0.425030</td>\n",
       "      <td>-0.204493</td>\n",
       "      <td>0.957593</td>\n",
       "      <td>0.153307</td>\n",
       "      <td>1.180308</td>\n",
       "      <td>-0.534344</td>\n",
       "      <td>1</td>\n",
       "    </tr>\n",
       "    <tr>\n",
       "      <td>767</td>\n",
       "      <td>-0.839892</td>\n",
       "      <td>-1.151755</td>\n",
       "      <td>-1.009178</td>\n",
       "      <td>0.086929</td>\n",
       "      <td>-0.082651</td>\n",
       "      <td>-0.150096</td>\n",
       "      <td>0.245235</td>\n",
       "      <td>0.515946</td>\n",
       "      <td>0</td>\n",
       "    </tr>\n",
       "  </tbody>\n",
       "</table>\n",
       "<p>768 rows × 9 columns</p>\n",
       "</div>"
      ],
      "text/plain": [
       "     pregnant    plasma  pressure  thickness   insulin       BMI  pedigree  \\\n",
       "0    1.068503  1.234895  0.095930   0.496990 -0.109985  0.357183  0.858821   \n",
       "1   -1.121683 -0.733852 -0.712938   0.285056 -0.389507 -0.406329  0.757034   \n",
       "2   -0.396477  1.595876  1.760678  -0.070395  0.906474 -0.040018 -1.152990   \n",
       "3   -1.115781 -1.271241 -0.663729  -0.579123 -0.356060 -0.412520 -0.029247   \n",
       "4    2.359334 -2.184819  2.963107   4.033099  0.592684  1.078341  0.549358   \n",
       "..        ...       ...       ...        ...       ...       ...       ...   \n",
       "763  1.562085  1.923150 -0.867408  -0.390926 -2.541527 -0.077322  1.141357   \n",
       "764 -0.100405 -0.614181 -0.764353  -0.134859  0.499290  0.529339  0.152109   \n",
       "765 -0.283475  0.097065 -0.077192  -0.687561 -0.523009 -0.538270 -0.335563   \n",
       "766 -1.060324  0.837062  0.425030  -0.204493  0.957593  0.153307  1.180308   \n",
       "767 -0.839892 -1.151755 -1.009178   0.086929 -0.082651 -0.150096  0.245235   \n",
       "\n",
       "          age  class  \n",
       "0    0.974304      1  \n",
       "1    0.354215      0  \n",
       "2    1.068528      1  \n",
       "3   -0.130648      0  \n",
       "4   -0.319352      1  \n",
       "..        ...    ...  \n",
       "763 -0.138590      0  \n",
       "764  0.467532      0  \n",
       "765  0.289439      0  \n",
       "766 -0.534344      1  \n",
       "767  0.515946      0  \n",
       "\n",
       "[768 rows x 9 columns]"
      ]
     },
     "execution_count": 11,
     "metadata": {},
     "output_type": "execute_result"
    }
   ],
   "source": [
    "mMscaled_data = pd.merge(mMscaled_data, df['class'], left_index=True, right_index=True)\n",
    "mMscaled_data"
   ]
  },
  {
   "cell_type": "code",
   "execution_count": 12,
   "metadata": {},
   "outputs": [
    {
     "data": {
      "text/plain": [
       "array([ 0.        ,  0.00598071,  0.        ,  0.        , -0.        ,\n",
       "        0.        ,  0.        ,  0.        ])"
      ]
     },
     "execution_count": 12,
     "metadata": {},
     "output_type": "execute_result"
    }
   ],
   "source": [
    "# Feature Selection\n",
    "\n",
    "from sklearn.linear_model import Lasso\n",
    "\n",
    "# X=mMscaled_data[mMscaled_data.columns[:8]]\n",
    "regression = Lasso()\n",
    "regression.fit(X, Y)\n",
    "\n",
    "regression.coef_\n",
    "# 데이터셋 자체가 좋지 않은것 같다...."
   ]
  },
  {
   "cell_type": "code",
   "execution_count": 13,
   "metadata": {},
   "outputs": [],
   "source": [
    "train,test=train_test_split(mMscaled_data, test_size=0.3,random_state=0,stratify=mMscaled_data['class'])\n",
    "train_X=train[train.columns[:8]]\n",
    "train_Y=train[train.columns[8:]]\n",
    "test_X=test[test.columns[:8]]\n",
    "test_Y=test[test.columns[8:]]"
   ]
  },
  {
   "cell_type": "code",
   "execution_count": 14,
   "metadata": {},
   "outputs": [
    {
     "name": "stdout",
     "output_type": "stream",
     "text": [
      "The accuracy of the Decision Tree is 0.683982683982684\n"
     ]
    }
   ],
   "source": [
    "model = DecisionTreeClassifier()\n",
    "model.fit(train_X, train_Y)\n",
    "prediction4 = model.predict(test_X)\n",
    "print('The accuracy of the Decision Tree is', metrics.accuracy_score(prediction4, test_Y))"
   ]
  },
  {
   "cell_type": "code",
   "execution_count": 15,
   "metadata": {},
   "outputs": [
    {
     "name": "stdout",
     "output_type": "stream",
     "text": [
      "The accuracy of the Naivebayes is  0.7489177489177489\n"
     ]
    }
   ],
   "source": [
    "model = GaussianNB()\n",
    "model.fit(train_X, train_Y)\n",
    "prediction6 = model.predict(test_X)\n",
    "print('The accuracy of the Naivebayes is ', metrics.accuracy_score(prediction6, test_Y))"
   ]
  },
  {
   "cell_type": "code",
   "execution_count": 16,
   "metadata": {},
   "outputs": [
    {
     "name": "stdout",
     "output_type": "stream",
     "text": [
      "The accuracy fo the KNN is  0.7445887445887446\n"
     ]
    }
   ],
   "source": [
    "model = KNeighborsClassifier()\n",
    "model.fit(train_X, train_Y)\n",
    "prediction5 = model.predict(test_X)\n",
    "print('The accuracy fo the KNN is ', metrics.accuracy_score(prediction5, test_Y))"
   ]
  },
  {
   "cell_type": "code",
   "execution_count": 17,
   "metadata": {},
   "outputs": [
    {
     "data": {
      "image/png": "[encoded data removed]",
      "text/plain": [
       "<Figure size 864x432 with 1 Axes>"
      ]
     },
     "metadata": {
      "needs_background": "dark"
     },
     "output_type": "display_data"
    },
    {
     "name": "stdout",
     "output_type": "stream",
     "text": [
      "Accuracies for different calues of n are:  [0.72294372 0.71861472 0.77056277 0.74891775 0.74458874 0.73593074\n",
      " 0.74025974 0.71428571 0.74458874 0.72727273] with the max avlues as  0.7705627705627706\n"
     ]
    }
   ],
   "source": [
    "a_index = list(range(1,11))\n",
    "a = pd.Series()\n",
    "x = [0, 1, 2, 3, 4, 5, 6, 7, 8, 9, 10]\n",
    "for i in list(range(1,11)):\n",
    "    model = KNeighborsClassifier(n_neighbors=i)\n",
    "    model.fit(train_X, train_Y)\n",
    "    prediction = model.predict(test_X)\n",
    "    a = a.append(pd.Series(metrics.accuracy_score(prediction, test_Y)))\n",
    "plt.plot(a_index, a)\n",
    "plt.xticks(x)\n",
    "fig=plt.gcf()\n",
    "fig.set_size_inches(12, 6)\n",
    "plt.show()\n",
    "print('Accuracies for different calues of n are: ', a.values, 'with the max avlues as ', a.values.max())\n",
    "\n",
    "# print('The cross validated score for XGBoost is:',result.mean())\n",
    "# result=cross_val_score(NGBoost,X,Y,cv=10,scoring='accuracy')\n",
    "# print('The cross validated score for NGBoost is:',result)\n",
    "# Y_preds = ngb.predict(test_X)\n",
    "# Y_dists = ngb.pred_dist(test_X)\n",
    "\n",
    "# test_MSE = mean_squared_error(Y_preds, Y_test)\n",
    "# print('Test MSE', test_MSE)\n",
    "\n",
    "# test Negative Log Likelihood\n",
    "# test_NLL = -Y_dists.logpdf(Y_test.flatten()).mean()\n",
    "# print('Test NLL', test_NLL)"
   ]
  },
  {
   "cell_type": "code",
   "execution_count": 18,
   "metadata": {},
   "outputs": [
    {
     "name": "stdout",
     "output_type": "stream",
     "text": [
      "Accuracy for rbf SVM is  0.7705627705627706\n"
     ]
    }
   ],
   "source": [
    "\n",
    "model=svm.SVC(kernel='linear',C=1,gamma=0.1)\n",
    "model.fit(train_X, train_Y)\n",
    "prediction1=model.predict(test_X)\n",
    "print('Accuracy for rbf SVM is ',metrics.accuracy_score(prediction1,test_Y))"
   ]
  },
  {
   "cell_type": "code",
   "execution_count": 19,
   "metadata": {},
   "outputs": [
    {
     "name": "stdout",
     "output_type": "stream",
     "text": [
      "Accuracy for linear SVM is  0.7705627705627706\n"
     ]
    }
   ],
   "source": [
    "model = svm.SVC(kernel='rbf', C=0.1, gamma= 0.1)\n",
    "model.fit(train_X, train_Y)\n",
    "prediction2 = model.predict(test_X)\n",
    "print('Accuracy for linear SVM is ', metrics.accuracy_score(prediction2, test_Y))"
   ]
  },
  {
   "cell_type": "code",
   "execution_count": 20,
   "metadata": {},
   "outputs": [
    {
     "name": "stdout",
     "output_type": "stream",
     "text": [
      "The accuracy of the Logistic Regreesion is 0.7748917748917749\n"
     ]
    }
   ],
   "source": [
    "model = LogisticRegression()\n",
    "model.fit(train_X, train_Y)\n",
    "prediction3 = model.predict(test_X)\n",
    "print('The accuracy of the Logistic Regreesion is', metrics.accuracy_score(prediction3, test_Y))"
   ]
  },
  {
   "cell_type": "code",
   "execution_count": 21,
   "metadata": {},
   "outputs": [
    {
     "name": "stdout",
     "output_type": "stream",
     "text": [
      "The accuracy of the Decision Tree is 0.670995670995671\n"
     ]
    }
   ],
   "source": [
    "model = DecisionTreeClassifier()\n",
    "model.fit(train_X, train_Y)\n",
    "prediction4 = model.predict(test_X)\n",
    "print('The accuracy of the Decision Tree is', metrics.accuracy_score(prediction4, test_Y))"
   ]
  },
  {
   "cell_type": "code",
   "execution_count": 22,
   "metadata": {},
   "outputs": [
    {
     "data": {
      "text/html": [
       "<div>\n",
       "<style scoped>\n",
       "    .dataframe tbody tr th:only-of-type {\n",
       "        vertical-align: middle;\n",
       "    }\n",
       "\n",
       "    .dataframe tbody tr th {\n",
       "        vertical-align: top;\n",
       "    }\n",
       "\n",
       "    .dataframe thead th {\n",
       "        text-align: right;\n",
       "    }\n",
       "</style>\n",
       "<table border=\"1\" class=\"dataframe\">\n",
       "  <thead>\n",
       "    <tr style=\"text-align: right;\">\n",
       "      <th></th>\n",
       "      <th>CV Mean</th>\n",
       "      <th>Std</th>\n",
       "    </tr>\n",
       "  </thead>\n",
       "  <tbody>\n",
       "    <tr>\n",
       "      <td>Linear Svm</td>\n",
       "      <td>0.772129</td>\n",
       "      <td>0.046952</td>\n",
       "    </tr>\n",
       "    <tr>\n",
       "      <td>Radial Svm</td>\n",
       "      <td>0.651025</td>\n",
       "      <td>0.072141</td>\n",
       "    </tr>\n",
       "    <tr>\n",
       "      <td>Logistic Regression</td>\n",
       "      <td>0.769515</td>\n",
       "      <td>0.048411</td>\n",
       "    </tr>\n",
       "    <tr>\n",
       "      <td>KNN</td>\n",
       "      <td>0.739610</td>\n",
       "      <td>0.051810</td>\n",
       "    </tr>\n",
       "    <tr>\n",
       "      <td>Decision Tree</td>\n",
       "      <td>0.691302</td>\n",
       "      <td>0.064716</td>\n",
       "    </tr>\n",
       "    <tr>\n",
       "      <td>Naive Bayes</td>\n",
       "      <td>0.755178</td>\n",
       "      <td>0.042766</td>\n",
       "    </tr>\n",
       "    <tr>\n",
       "      <td>Random Foerst</td>\n",
       "      <td>0.778623</td>\n",
       "      <td>0.054276</td>\n",
       "    </tr>\n",
       "  </tbody>\n",
       "</table>\n",
       "</div>"
      ],
      "text/plain": [
       "                      CV Mean       Std\n",
       "Linear Svm           0.772129  0.046952\n",
       "Radial Svm           0.651025  0.072141\n",
       "Logistic Regression  0.769515  0.048411\n",
       "KNN                  0.739610  0.051810\n",
       "Decision Tree        0.691302  0.064716\n",
       "Naive Bayes          0.755178  0.042766\n",
       "Random Foerst        0.778623  0.054276"
      ]
     },
     "execution_count": 22,
     "metadata": {},
     "output_type": "execute_result"
    }
   ],
   "source": [
    "from sklearn.model_selection import KFold\n",
    "from sklearn.model_selection import cross_val_score\n",
    "from sklearn.model_selection import cross_val_predict\n",
    "\n",
    "kfold = KFold(n_splits = 10, random_state =22)\n",
    "xyz=[]\n",
    "accuracy = []\n",
    "std = []\n",
    "classifiers = ['Linear Svm', 'Radial Svm', 'Logistic Regression', 'KNN', 'Decision Tree', 'Naive Bayes', 'Random Foerst' ]\n",
    "\n",
    "models = [svm.SVC(kernel = 'linear'), svm.SVC(kernel = 'rbf'), LogisticRegression(), KNeighborsClassifier(n_neighbors=9), DecisionTreeClassifier(), GaussianNB(), RandomForestClassifier(n_estimators=100)]\n",
    "for model in models:\n",
    "    \n",
    "    cv_result = cross_val_score(model, X, Y, cv = kfold,scoring = \"accuracy\")\n",
    "    xyz.append(cv_result.mean())\n",
    "    std.append(cv_result.std())\n",
    "    accuracy.append(cv_result)\n",
    "    \n",
    "new_models_dataframe2 = pd.DataFrame({'CV Mean':xyz, 'Std': std}, index=classifiers)\n",
    "new_models_dataframe2"
   ]
  },
  {
   "cell_type": "code",
   "execution_count": 23,
   "metadata": {},
   "outputs": [
    {
     "data": {
      "text/plain": [
       "<matplotlib.axes._subplots.AxesSubplot at 0x2136a0ffa08>"
      ]
     },
     "execution_count": 23,
     "metadata": {},
     "output_type": "execute_result"
    },
    {
     "data": {
      "image/png": "[encoded data removed]",
      "text/plain": [
       "<Figure size 864x432 with 1 Axes>"
      ]
     },
     "metadata": {
      "needs_background": "dark"
     },
     "output_type": "display_data"
    }
   ],
   "source": [
    "plt.subplots(figsize = (12,6))\n",
    "box = pd.DataFrame(accuracy, index=[classifiers])\n",
    "box.T.boxplot()"
   ]
  },
  {
   "cell_type": "code",
   "execution_count": 24,
   "metadata": {},
   "outputs": [
    {
     "data": {
      "image/png": "[encoded data removed]",
      "text/plain": [
       "<Figure size 576x360 with 1 Axes>"
      ]
     },
     "metadata": {
      "needs_background": "dark"
     },
     "output_type": "display_data"
    }
   ],
   "source": [
    "new_models_dataframe2['CV Mean'].plot.barh(width = 0.8)\n",
    "plt.title('Average CV Mean Accuracy')\n",
    "fig = plt.gcf()\n",
    "fig.set_size_inches(8, 5)\n",
    "plt.show()"
   ]
  },
  {
   "cell_type": "code",
   "execution_count": 25,
   "metadata": {},
   "outputs": [
    {
     "name": "stdout",
     "output_type": "stream",
     "text": [
      "Fitting 3 folds for each of 240 candidates, totalling 720 fits\n"
     ]
    },
    {
     "name": "stderr",
     "output_type": "stream",
     "text": [
      "[Parallel(n_jobs=1)]: Using backend SequentialBackend with 1 concurrent workers.\n",
      "[Parallel(n_jobs=1)]: Done 720 out of 720 | elapsed:  5.4min finished\n"
     ]
    },
    {
     "name": "stdout",
     "output_type": "stream",
     "text": [
      "0.76171875\n",
      "SVC(C=0.05, cache_size=200, class_weight=None, coef0=0.0,\n",
      "    decision_function_shape='ovr', degree=3, gamma=0.1, kernel='linear',\n",
      "    max_iter=-1, probability=False, random_state=None, shrinking=True,\n",
      "    tol=0.001, verbose=False)\n"
     ]
    }
   ],
   "source": [
    "from sklearn.model_selection import GridSearchCV\n",
    "C = [0.05, 0.1, 0.2, 0.3, 0.25, 0.4, 0.5, 0.6, 0.7, 0.8, 0.9, 1]\n",
    "gamma = [0.1, 0.2, 0.3, 0.4, 0.5, 0.6, 0.7, 0.8, 0.9, 1.0]\n",
    "kernel = ['rbf', 'linear']\n",
    "hyper={'kernel':kernel, 'C':C, 'gamma': gamma}\n",
    "gd=GridSearchCV(estimator=svm.SVC(), param_grid=hyper, verbose = True)\n",
    "gd.fit(X,Y)\n",
    "print(gd.best_score_)\n",
    "print(gd.best_estimator_)"
   ]
  },
  {
   "cell_type": "code",
   "execution_count": 26,
   "metadata": {},
   "outputs": [
    {
     "name": "stdout",
     "output_type": "stream",
     "text": [
      "The accuracy for bagged Decision Tree is: 0.7792207792207793\n",
      "The cross validated score for bagged Decision Tree is:  0.753896103896104\n"
     ]
    }
   ],
   "source": [
    "from sklearn.ensemble import BaggingClassifier\n",
    "model = BaggingClassifier(base_estimator=DecisionTreeClassifier(),random_state=0, n_estimators= 100)\n",
    "model.fit(train_X, train_Y)\n",
    "prediction = model.predict(test_X)\n",
    "print('The accuracy for bagged Decision Tree is:', metrics.accuracy_score(prediction, test_Y))\n",
    "result=cross_val_score(model, X, Y, cv=10, scoring= 'accuracy')\n",
    "print('The cross validated score for bagged Decision Tree is: ',result.mean())"
   ]
  },
  {
   "cell_type": "code",
   "execution_count": 27,
   "metadata": {},
   "outputs": [
    {
     "data": {
      "image/png": "[encoded data removed]",
      "text/plain": [
       "<Figure size 432x288 with 2 Axes>"
      ]
     },
     "metadata": {
      "needs_background": "dark"
     },
     "output_type": "display_data"
    }
   ],
   "source": [
    "from sklearn.ensemble import AdaBoostClassifier\n",
    "ada=AdaBoostClassifier(n_estimators=200, random_state=0, learning_rate=0.05)\n",
    "result = cross_val_predict(ada, X, Y, cv=10)\n",
    "sns.heatmap(confusion_matrix(Y, result), cmap='winter', annot= True, fmt ='2.0f')\n",
    "plt.show()"
   ]
  },
  {
   "cell_type": "code",
   "execution_count": 28,
   "metadata": {},
   "outputs": [
    {
     "name": "stdout",
     "output_type": "stream",
     "text": [
      "Fitting 3 folds for each of 120 candidates, totalling 360 fits\n"
     ]
    },
    {
     "name": "stderr",
     "output_type": "stream",
     "text": [
      "[Parallel(n_jobs=1)]: Using backend SequentialBackend with 1 concurrent workers.\n",
      "[Parallel(n_jobs=1)]: Done 360 out of 360 | elapsed:  4.0min finished\n"
     ]
    },
    {
     "name": "stdout",
     "output_type": "stream",
     "text": [
      "0.7799479166666666\n",
      "AdaBoostClassifier(algorithm='SAMME.R', base_estimator=None, learning_rate=0.05,\n",
      "                   n_estimators=600, random_state=None)\n"
     ]
    }
   ],
   "source": [
    "n_estimators = list(range(100, 1100, 100))\n",
    "learn_rate = [0.05, 0.1, 0.2, 0.3, 0.25, 0.4, 0.5, 0.6, 0.7, 0.8, 0.9, 1]\n",
    "hyper = {'n_estimators': n_estimators, 'learning_rate': learn_rate}\n",
    "gd= GridSearchCV(estimator=AdaBoostClassifier(),param_grid=hyper, verbose=True)\n",
    "gd.fit(X,Y)\n",
    "print(gd.best_score_)\n",
    "print(gd.best_estimator_)\n"
   ]
  },
  {
   "cell_type": "code",
   "execution_count": 29,
   "metadata": {},
   "outputs": [
    {
     "name": "stdout",
     "output_type": "stream",
     "text": [
      "The cross validated score for Gradient Boosting is:  0.7421907040328093\n"
     ]
    }
   ],
   "source": [
    "from sklearn.ensemble import GradientBoostingClassifier\n",
    "grad = GradientBoostingClassifier(n_estimators = 500, random_state=0, learning_rate=0.1)\n",
    "result = cross_val_score(grad, X, Y, cv=10, scoring= 'accuracy')\n",
    "print('The cross validated score for Gradient Boosting is: ', result.mean())"
   ]
  },
  {
   "cell_type": "code",
   "execution_count": 30,
   "metadata": {},
   "outputs": [
    {
     "name": "stdout",
     "output_type": "stream",
     "text": [
      "The accuracy for ensembled model is:  0.7792207792207793\n",
      "The cross validated score is 0.76296992481203\n"
     ]
    }
   ],
   "source": [
    "from sklearn.ensemble import VotingClassifier\n",
    "ensemble_lin_rbf= VotingClassifier(estimators = [('KNN', KNeighborsClassifier(n_neighbors=10)),('RBF',svm.SVC(probability=True, kernel='rbf', C=0.5, gamma=0.1)),('RFor',RandomForestClassifier(n_estimators=500, random_state = 0)),('LR',LogisticRegression(C=0.05)),('DT', DecisionTreeClassifier(random_state=0)), ('NB', GaussianNB()),('svm',svm.SVC(kernel= 'linear', probability = True))],voting='soft').fit(train_X, train_Y)\n",
    "print('The accuracy for ensembled model is: ', ensemble_lin_rbf.score(test_X, test_Y))\n",
    "cross = cross_val_score(ensemble_lin_rbf,X,Y, cv= 10, scoring= \"accuracy\")\n",
    "print('The cross validated score is', cross.mean())"
   ]
  },
  {
   "cell_type": "code",
   "execution_count": 31,
   "metadata": {},
   "outputs": [
    {
     "name": "stdout",
     "output_type": "stream",
     "text": [
      "The cross validated score for XGBoost is: 0.7422248803827751\n"
     ]
    }
   ],
   "source": [
    "import xgboost as xg\n",
    "\n",
    "xgboost=xg.XGBClassifier(n_estimators=900,learning_rate=0.1)\n",
    "result=cross_val_score(xgboost,X,Y,cv=10,scoring='accuracy')\n",
    "print('The cross validated score for XGBoost is:',result.mean())\n"
   ]
  },
  {
   "cell_type": "code",
   "execution_count": 33,
   "metadata": {},
   "outputs": [
    {
     "name": "stdout",
     "output_type": "stream",
     "text": [
      "WARNING:tensorflow:From C:\\Users\\jsson\\Anaconda3\\lib\\site-packages\\keras\\backend\\tensorflow_backend.py:422: The name tf.global_variables is deprecated. Please use tf.compat.v1.global_variables instead.\n",
      "\n",
      "Train on 429 samples, validate on 108 samples\n",
      "Epoch 1/200\n",
      "429/429 [==============================] - 0s 1ms/step - loss: 0.6690 - accuracy: 0.6177 - val_loss: 0.6429 - val_accuracy: 0.7315\n",
      "Epoch 2/200\n",
      "429/429 [==============================] - 0s 165us/step - loss: 0.6426 - accuracy: 0.7016 - val_loss: 0.6284 - val_accuracy: 0.6759\n",
      "Epoch 3/200\n",
      "429/429 [==============================] - 0s 160us/step - loss: 0.6143 - accuracy: 0.7389 - val_loss: 0.6019 - val_accuracy: 0.7037\n",
      "Epoch 4/200\n",
      "429/429 [==============================] - 0s 158us/step - loss: 0.5731 - accuracy: 0.7459 - val_loss: 0.5683 - val_accuracy: 0.6759\n",
      "Epoch 5/200\n",
      "429/429 [==============================] - 0s 156us/step - loss: 0.5385 - accuracy: 0.7599 - val_loss: 0.5529 - val_accuracy: 0.6667\n",
      "Epoch 6/200\n",
      "429/429 [==============================] - 0s 165us/step - loss: 0.5124 - accuracy: 0.7762 - val_loss: 0.5528 - val_accuracy: 0.6667\n",
      "Epoch 7/200\n",
      "429/429 [==============================] - 0s 167us/step - loss: 0.4965 - accuracy: 0.7739 - val_loss: 0.5579 - val_accuracy: 0.6667\n",
      "Epoch 8/200\n",
      "429/429 [==============================] - 0s 160us/step - loss: 0.4845 - accuracy: 0.7716 - val_loss: 0.5640 - val_accuracy: 0.6759\n",
      "Epoch 9/200\n",
      "429/429 [==============================] - 0s 170us/step - loss: 0.4767 - accuracy: 0.7762 - val_loss: 0.5671 - val_accuracy: 0.6667\n",
      "Epoch 10/200\n",
      "429/429 [==============================] - 0s 163us/step - loss: 0.4693 - accuracy: 0.7762 - val_loss: 0.5710 - val_accuracy: 0.6574\n",
      "Epoch 11/200\n",
      "429/429 [==============================] - 0s 160us/step - loss: 0.4653 - accuracy: 0.7832 - val_loss: 0.5755 - val_accuracy: 0.6667\n",
      "Epoch 12/200\n",
      "429/429 [==============================] - 0s 158us/step - loss: 0.4624 - accuracy: 0.7855 - val_loss: 0.5792 - val_accuracy: 0.6574\n",
      "Epoch 13/200\n",
      "429/429 [==============================] - 0s 167us/step - loss: 0.4590 - accuracy: 0.7832 - val_loss: 0.5751 - val_accuracy: 0.6574\n",
      "Epoch 14/200\n",
      "429/429 [==============================] - 0s 160us/step - loss: 0.4575 - accuracy: 0.7902 - val_loss: 0.5800 - val_accuracy: 0.6574\n",
      "Epoch 15/200\n",
      "429/429 [==============================] - 0s 163us/step - loss: 0.4538 - accuracy: 0.7902 - val_loss: 0.5816 - val_accuracy: 0.6574\n",
      "Epoch 16/200\n",
      "429/429 [==============================] - 0s 170us/step - loss: 0.4524 - accuracy: 0.7949 - val_loss: 0.5787 - val_accuracy: 0.6667\n",
      "Epoch 17/200\n",
      "429/429 [==============================] - 0s 163us/step - loss: 0.4507 - accuracy: 0.7972 - val_loss: 0.5830 - val_accuracy: 0.6667\n",
      "Epoch 18/200\n",
      "429/429 [==============================] - 0s 167us/step - loss: 0.4483 - accuracy: 0.7925 - val_loss: 0.5865 - val_accuracy: 0.6759\n",
      "Epoch 19/200\n",
      "429/429 [==============================] - 0s 174us/step - loss: 0.4481 - accuracy: 0.7902 - val_loss: 0.5881 - val_accuracy: 0.6759\n",
      "Epoch 20/200\n",
      "429/429 [==============================] - 0s 174us/step - loss: 0.4465 - accuracy: 0.7902 - val_loss: 0.5908 - val_accuracy: 0.6852\n",
      "Epoch 21/200\n",
      "429/429 [==============================] - 0s 158us/step - loss: 0.4437 - accuracy: 0.7925 - val_loss: 0.5914 - val_accuracy: 0.6759\n",
      "Epoch 22/200\n",
      "429/429 [==============================] - 0s 167us/step - loss: 0.4427 - accuracy: 0.7995 - val_loss: 0.5940 - val_accuracy: 0.6759\n",
      "Epoch 23/200\n",
      "429/429 [==============================] - 0s 174us/step - loss: 0.4411 - accuracy: 0.7972 - val_loss: 0.5985 - val_accuracy: 0.6759\n",
      "Epoch 24/200\n",
      "429/429 [==============================] - 0s 174us/step - loss: 0.4397 - accuracy: 0.8042 - val_loss: 0.5969 - val_accuracy: 0.6852\n",
      "Epoch 25/200\n",
      "429/429 [==============================] - 0s 167us/step - loss: 0.4385 - accuracy: 0.8042 - val_loss: 0.6027 - val_accuracy: 0.6852\n",
      "Epoch 26/200\n",
      "429/429 [==============================] - 0s 167us/step - loss: 0.4375 - accuracy: 0.8065 - val_loss: 0.6017 - val_accuracy: 0.6852\n",
      "Epoch 27/200\n",
      "429/429 [==============================] - 0s 165us/step - loss: 0.4352 - accuracy: 0.8065 - val_loss: 0.6050 - val_accuracy: 0.6852\n",
      "Epoch 28/200\n",
      "429/429 [==============================] - 0s 167us/step - loss: 0.4340 - accuracy: 0.8112 - val_loss: 0.6072 - val_accuracy: 0.6852\n",
      "Epoch 29/200\n",
      "429/429 [==============================] - 0s 163us/step - loss: 0.4325 - accuracy: 0.8112 - val_loss: 0.6097 - val_accuracy: 0.6852\n",
      "Epoch 30/200\n",
      "429/429 [==============================] - 0s 158us/step - loss: 0.4316 - accuracy: 0.8135 - val_loss: 0.6075 - val_accuracy: 0.6852\n",
      "Epoch 31/200\n",
      "429/429 [==============================] - 0s 158us/step - loss: 0.4309 - accuracy: 0.8112 - val_loss: 0.6096 - val_accuracy: 0.6852\n",
      "Epoch 32/200\n",
      "429/429 [==============================] - 0s 163us/step - loss: 0.4294 - accuracy: 0.8135 - val_loss: 0.6135 - val_accuracy: 0.6852\n",
      "Epoch 33/200\n",
      "429/429 [==============================] - 0s 172us/step - loss: 0.4277 - accuracy: 0.8112 - val_loss: 0.6165 - val_accuracy: 0.6944\n",
      "Epoch 34/200\n",
      "429/429 [==============================] - 0s 167us/step - loss: 0.4271 - accuracy: 0.8159 - val_loss: 0.6170 - val_accuracy: 0.6852\n",
      "Epoch 35/200\n",
      "429/429 [==============================] - 0s 163us/step - loss: 0.4258 - accuracy: 0.8135 - val_loss: 0.6176 - val_accuracy: 0.6944\n",
      "Epoch 36/200\n",
      "429/429 [==============================] - 0s 172us/step - loss: 0.4265 - accuracy: 0.8112 - val_loss: 0.6257 - val_accuracy: 0.6852\n",
      "Epoch 37/200\n",
      "429/429 [==============================] - 0s 172us/step - loss: 0.4225 - accuracy: 0.8159 - val_loss: 0.6225 - val_accuracy: 0.6852\n",
      "Epoch 38/200\n",
      "429/429 [==============================] - 0s 167us/step - loss: 0.4224 - accuracy: 0.8135 - val_loss: 0.6230 - val_accuracy: 0.6852\n",
      "Epoch 39/200\n",
      "429/429 [==============================] - 0s 165us/step - loss: 0.4207 - accuracy: 0.8135 - val_loss: 0.6254 - val_accuracy: 0.6852\n",
      "Epoch 40/200\n",
      "429/429 [==============================] - 0s 163us/step - loss: 0.4185 - accuracy: 0.8205 - val_loss: 0.6256 - val_accuracy: 0.6944\n",
      "Epoch 41/200\n",
      "429/429 [==============================] - 0s 156us/step - loss: 0.4182 - accuracy: 0.8159 - val_loss: 0.6304 - val_accuracy: 0.6944\n",
      "Epoch 42/200\n",
      "429/429 [==============================] - 0s 153us/step - loss: 0.4173 - accuracy: 0.8159 - val_loss: 0.6301 - val_accuracy: 0.7037\n",
      "Epoch 43/200\n",
      "429/429 [==============================] - 0s 151us/step - loss: 0.4151 - accuracy: 0.8228 - val_loss: 0.6335 - val_accuracy: 0.6944\n",
      "Epoch 44/200\n",
      "429/429 [==============================] - 0s 160us/step - loss: 0.4144 - accuracy: 0.8159 - val_loss: 0.6318 - val_accuracy: 0.6944\n",
      "Epoch 45/200\n",
      "429/429 [==============================] - 0s 156us/step - loss: 0.4136 - accuracy: 0.8135 - val_loss: 0.6345 - val_accuracy: 0.6944\n",
      "Epoch 46/200\n",
      "429/429 [==============================] - 0s 156us/step - loss: 0.4124 - accuracy: 0.8182 - val_loss: 0.6361 - val_accuracy: 0.7037\n",
      "Epoch 47/200\n",
      "429/429 [==============================] - 0s 156us/step - loss: 0.4120 - accuracy: 0.8182 - val_loss: 0.6433 - val_accuracy: 0.6944\n",
      "Epoch 48/200\n",
      "429/429 [==============================] - 0s 153us/step - loss: 0.4102 - accuracy: 0.8159 - val_loss: 0.6409 - val_accuracy: 0.7037\n",
      "Epoch 49/200\n",
      "429/429 [==============================] - 0s 160us/step - loss: 0.4101 - accuracy: 0.8252 - val_loss: 0.6447 - val_accuracy: 0.6944\n",
      "Epoch 50/200\n",
      "429/429 [==============================] - 0s 160us/step - loss: 0.4082 - accuracy: 0.8159 - val_loss: 0.6422 - val_accuracy: 0.6944\n",
      "Epoch 51/200\n",
      "429/429 [==============================] - 0s 170us/step - loss: 0.4071 - accuracy: 0.8182 - val_loss: 0.6416 - val_accuracy: 0.6944\n",
      "Epoch 52/200\n",
      "429/429 [==============================] - 0s 167us/step - loss: 0.4061 - accuracy: 0.8159 - val_loss: 0.6461 - val_accuracy: 0.6944\n",
      "Epoch 53/200\n",
      "429/429 [==============================] - 0s 149us/step - loss: 0.4051 - accuracy: 0.8252 - val_loss: 0.6475 - val_accuracy: 0.6944\n",
      "Epoch 54/200\n",
      "429/429 [==============================] - 0s 156us/step - loss: 0.4043 - accuracy: 0.8205 - val_loss: 0.6461 - val_accuracy: 0.6944\n",
      "Epoch 55/200\n"
     ]
    },
    {
     "name": "stdout",
     "output_type": "stream",
     "text": [
      "429/429 [==============================] - 0s 151us/step - loss: 0.4028 - accuracy: 0.8205 - val_loss: 0.6510 - val_accuracy: 0.6944\n",
      "Epoch 56/200\n",
      "429/429 [==============================] - 0s 149us/step - loss: 0.4015 - accuracy: 0.8205 - val_loss: 0.6490 - val_accuracy: 0.6944\n",
      "Epoch 57/200\n",
      "429/429 [==============================] - 0s 156us/step - loss: 0.3996 - accuracy: 0.8182 - val_loss: 0.6493 - val_accuracy: 0.6944\n",
      "Epoch 58/200\n",
      "429/429 [==============================] - 0s 153us/step - loss: 0.3985 - accuracy: 0.8182 - val_loss: 0.6492 - val_accuracy: 0.6944\n",
      "Epoch 59/200\n",
      "429/429 [==============================] - 0s 153us/step - loss: 0.3981 - accuracy: 0.8228 - val_loss: 0.6425 - val_accuracy: 0.7037\n",
      "Epoch 60/200\n",
      "429/429 [==============================] - 0s 156us/step - loss: 0.3968 - accuracy: 0.8182 - val_loss: 0.6540 - val_accuracy: 0.6944\n",
      "Epoch 61/200\n",
      "429/429 [==============================] - 0s 156us/step - loss: 0.3953 - accuracy: 0.8159 - val_loss: 0.6502 - val_accuracy: 0.7037\n",
      "Epoch 62/200\n",
      "429/429 [==============================] - 0s 153us/step - loss: 0.3934 - accuracy: 0.8252 - val_loss: 0.6527 - val_accuracy: 0.7037\n",
      "Epoch 63/200\n",
      "429/429 [==============================] - 0s 158us/step - loss: 0.3937 - accuracy: 0.8182 - val_loss: 0.6581 - val_accuracy: 0.6944\n",
      "Epoch 64/200\n",
      "429/429 [==============================] - 0s 165us/step - loss: 0.3924 - accuracy: 0.8228 - val_loss: 0.6523 - val_accuracy: 0.7037\n",
      "Epoch 65/200\n",
      "429/429 [==============================] - 0s 160us/step - loss: 0.3899 - accuracy: 0.8228 - val_loss: 0.6613 - val_accuracy: 0.6944\n",
      "Epoch 66/200\n",
      "429/429 [==============================] - 0s 165us/step - loss: 0.3901 - accuracy: 0.8252 - val_loss: 0.6623 - val_accuracy: 0.7037\n",
      "Epoch 67/200\n",
      "429/429 [==============================] - 0s 158us/step - loss: 0.3874 - accuracy: 0.8345 - val_loss: 0.6582 - val_accuracy: 0.7037\n",
      "Epoch 68/200\n",
      "429/429 [==============================] - 0s 153us/step - loss: 0.3863 - accuracy: 0.8368 - val_loss: 0.6556 - val_accuracy: 0.7037\n",
      "Epoch 69/200\n",
      "429/429 [==============================] - 0s 149us/step - loss: 0.3850 - accuracy: 0.8415 - val_loss: 0.6574 - val_accuracy: 0.7037\n",
      "Epoch 70/200\n",
      "429/429 [==============================] - 0s 156us/step - loss: 0.3836 - accuracy: 0.8438 - val_loss: 0.6588 - val_accuracy: 0.7037\n",
      "Epoch 71/200\n",
      "429/429 [==============================] - 0s 156us/step - loss: 0.3825 - accuracy: 0.8462 - val_loss: 0.6605 - val_accuracy: 0.7037\n",
      "Epoch 72/200\n",
      "429/429 [==============================] - 0s 158us/step - loss: 0.3818 - accuracy: 0.8415 - val_loss: 0.6630 - val_accuracy: 0.7037\n",
      "Epoch 73/200\n",
      "429/429 [==============================] - 0s 158us/step - loss: 0.3805 - accuracy: 0.8462 - val_loss: 0.6677 - val_accuracy: 0.7037\n",
      "Epoch 74/200\n",
      "429/429 [==============================] - 0s 153us/step - loss: 0.3801 - accuracy: 0.8438 - val_loss: 0.6728 - val_accuracy: 0.7037\n",
      "Epoch 75/200\n",
      "429/429 [==============================] - 0s 153us/step - loss: 0.3789 - accuracy: 0.8508 - val_loss: 0.6683 - val_accuracy: 0.7037\n",
      "Epoch 76/200\n",
      "429/429 [==============================] - 0s 153us/step - loss: 0.3766 - accuracy: 0.8485 - val_loss: 0.6649 - val_accuracy: 0.7037\n",
      "Epoch 77/200\n",
      "429/429 [==============================] - 0s 153us/step - loss: 0.3770 - accuracy: 0.8415 - val_loss: 0.6711 - val_accuracy: 0.7037\n",
      "Epoch 78/200\n",
      "429/429 [==============================] - 0s 165us/step - loss: 0.3754 - accuracy: 0.8462 - val_loss: 0.6702 - val_accuracy: 0.7037\n",
      "Epoch 79/200\n",
      "429/429 [==============================] - 0s 156us/step - loss: 0.3734 - accuracy: 0.8508 - val_loss: 0.6710 - val_accuracy: 0.7037\n",
      "Epoch 80/200\n",
      "429/429 [==============================] - 0s 149us/step - loss: 0.3735 - accuracy: 0.8462 - val_loss: 0.6692 - val_accuracy: 0.7037\n",
      "Epoch 81/200\n",
      "429/429 [==============================] - 0s 151us/step - loss: 0.3714 - accuracy: 0.8508 - val_loss: 0.6737 - val_accuracy: 0.7037\n",
      "Epoch 82/200\n",
      "429/429 [==============================] - 0s 153us/step - loss: 0.3721 - accuracy: 0.8462 - val_loss: 0.6731 - val_accuracy: 0.7037\n",
      "Epoch 83/200\n",
      "429/429 [==============================] - 0s 160us/step - loss: 0.3711 - accuracy: 0.8508 - val_loss: 0.6723 - val_accuracy: 0.7037\n",
      "Epoch 84/200\n",
      "429/429 [==============================] - 0s 174us/step - loss: 0.3684 - accuracy: 0.8508 - val_loss: 0.6755 - val_accuracy: 0.7037\n",
      "Epoch 85/200\n",
      "429/429 [==============================] - 0s 158us/step - loss: 0.3692 - accuracy: 0.8508 - val_loss: 0.6776 - val_accuracy: 0.6944\n",
      "Epoch 86/200\n",
      "429/429 [==============================] - 0s 156us/step - loss: 0.3662 - accuracy: 0.8508 - val_loss: 0.6783 - val_accuracy: 0.7037\n",
      "Epoch 87/200\n",
      "429/429 [==============================] - 0s 151us/step - loss: 0.3651 - accuracy: 0.8462 - val_loss: 0.6824 - val_accuracy: 0.7037\n",
      "Epoch 88/200\n",
      "429/429 [==============================] - 0s 156us/step - loss: 0.3641 - accuracy: 0.8508 - val_loss: 0.6850 - val_accuracy: 0.7037\n",
      "Epoch 89/200\n",
      "429/429 [==============================] - 0s 160us/step - loss: 0.3627 - accuracy: 0.8531 - val_loss: 0.6897 - val_accuracy: 0.7037\n",
      "Epoch 90/200\n",
      "429/429 [==============================] - 0s 156us/step - loss: 0.3624 - accuracy: 0.8531 - val_loss: 0.6888 - val_accuracy: 0.7037\n",
      "Epoch 91/200\n",
      "429/429 [==============================] - 0s 151us/step - loss: 0.3608 - accuracy: 0.8531 - val_loss: 0.6908 - val_accuracy: 0.7037\n",
      "Epoch 92/200\n",
      "429/429 [==============================] - 0s 156us/step - loss: 0.3600 - accuracy: 0.8485 - val_loss: 0.6958 - val_accuracy: 0.7037\n",
      "Epoch 93/200\n",
      "429/429 [==============================] - 0s 158us/step - loss: 0.3587 - accuracy: 0.8555 - val_loss: 0.6983 - val_accuracy: 0.7037\n",
      "Epoch 94/200\n",
      "429/429 [==============================] - 0s 158us/step - loss: 0.3579 - accuracy: 0.8578 - val_loss: 0.6943 - val_accuracy: 0.7037\n",
      "Epoch 95/200\n",
      "429/429 [==============================] - 0s 167us/step - loss: 0.3565 - accuracy: 0.8555 - val_loss: 0.6918 - val_accuracy: 0.7037\n",
      "Epoch 96/200\n",
      "429/429 [==============================] - 0s 167us/step - loss: 0.3561 - accuracy: 0.8555 - val_loss: 0.6955 - val_accuracy: 0.7037\n",
      "Epoch 97/200\n",
      "429/429 [==============================] - 0s 156us/step - loss: 0.3545 - accuracy: 0.8555 - val_loss: 0.6925 - val_accuracy: 0.7037\n",
      "Epoch 98/200\n",
      "429/429 [==============================] - 0s 153us/step - loss: 0.3549 - accuracy: 0.8555 - val_loss: 0.7053 - val_accuracy: 0.6944\n",
      "Epoch 99/200\n",
      "429/429 [==============================] - 0s 151us/step - loss: 0.3526 - accuracy: 0.8578 - val_loss: 0.6981 - val_accuracy: 0.7037\n",
      "Epoch 100/200\n",
      "429/429 [==============================] - 0s 160us/step - loss: 0.3524 - accuracy: 0.8555 - val_loss: 0.6981 - val_accuracy: 0.7037\n",
      "Epoch 101/200\n",
      "429/429 [==============================] - 0s 163us/step - loss: 0.3517 - accuracy: 0.8555 - val_loss: 0.7026 - val_accuracy: 0.7037\n",
      "Epoch 102/200\n",
      "429/429 [==============================] - 0s 160us/step - loss: 0.3487 - accuracy: 0.8601 - val_loss: 0.7062 - val_accuracy: 0.7037\n",
      "Epoch 103/200\n",
      "429/429 [==============================] - 0s 158us/step - loss: 0.3498 - accuracy: 0.8578 - val_loss: 0.7116 - val_accuracy: 0.7037\n",
      "Epoch 104/200\n",
      "429/429 [==============================] - 0s 156us/step - loss: 0.3481 - accuracy: 0.8625 - val_loss: 0.7123 - val_accuracy: 0.7037\n",
      "Epoch 105/200\n",
      "429/429 [==============================] - 0s 153us/step - loss: 0.3466 - accuracy: 0.8578 - val_loss: 0.7188 - val_accuracy: 0.7037\n",
      "Epoch 106/200\n",
      "429/429 [==============================] - 0s 156us/step - loss: 0.3458 - accuracy: 0.8671 - val_loss: 0.7117 - val_accuracy: 0.7037\n",
      "231/231 [==============================] - 0s 39us/step\n",
      "\n",
      " Accuracy: 0.7619\n"
     ]
    }
   ],
   "source": [
    "#Deeplearning Model\n",
    "\n",
    "from keras.models import Sequential\n",
    "from keras.layers import Dense\n",
    "import numpy as np\n",
    "import tensorflow as tf\n",
    "from keras.callbacks import EarlyStopping\n",
    "\n",
    "# 모델의 설정\n",
    "model = Sequential()\n",
    "model.add(Dense(12, input_dim=8, activation='relu'))\n",
    "model.add(Dense(10, activation='relu'))\n",
    "model.add(Dense(8, activation='relu'))\n",
    "model.add(Dense(1, activation='sigmoid'))\n",
    "\n",
    "# 모델 컴파일\n",
    "model.compile(loss='binary_crossentropy',\n",
    "             optimizer='adam',\n",
    "             metrics=['accuracy'])\n",
    "\n",
    "early_stopping_callback = EarlyStopping(monitor='val_loss',\n",
    "patience=100)\n",
    "\n",
    "# 모델 실행\n",
    "model.fit(train_X, train_Y, validation_split=0.2, epochs=200, batch_size=20, callbacks=[early_stopping_callback])\n",
    "\n",
    "# 결과 출력\n",
    "print(\"\\n Accuracy: %.4f\" % (model.evaluate(test_X, test_Y)[1]))\n"
   ]
  },
  {
   "cell_type": "markdown",
   "metadata": {},
   "source": [
    "# 왜 NGBoost가 안되는지 모르겠음...\n",
    "\n",
    "## 기존 노트북에선 작동하나 새로운 컴퓨터에선 Nonetype error발생함 - 아래코드..\n",
    "\n",
    "from ngboost.ngboost import NGBoost\n",
    "from ngboost.learners import default_tree_learner\n",
    "from ngboost.distns import Normal\n",
    "from ngboost.scores import MLE\n",
    "from ngboost import NGBClassifier\n",
    "\n",
    "\n",
    "ngb = NGBClassifier(n_estimators=500, learning_rate=0.01)\n",
    "result = cross_val_score(ngb,X,Y, cv=3,scoring='accuracy')\n",
    "print(result.mean())\n",
    "ngb = NGBClassifier().fit(train_X, train_Y)\n"
   ]
  },
  {
   "cell_type": "code",
   "execution_count": null,
   "metadata": {},
   "outputs": [],
   "source": []
  },
  {
   "cell_type": "code",
   "execution_count": null,
   "metadata": {},
   "outputs": [],
   "source": []
  },
  {
   "cell_type": "code",
   "execution_count": null,
   "metadata": {},
   "outputs": [],
   "source": []
  },
  {
   "cell_type": "code",
   "execution_count": null,
   "metadata": {},
   "outputs": [],
   "source": []
  },
  {
   "cell_type": "code",
   "execution_count": null,
   "metadata": {},
   "outputs": [],
   "source": []
  },
  {
   "cell_type": "code",
   "execution_count": null,
   "metadata": {},
   "outputs": [],
   "source": []
  },
  {
   "cell_type": "code",
   "execution_count": null,
   "metadata": {},
   "outputs": [],
   "source": []
  }
 ],
 "metadata": {
  "kernelspec": {
   "display_name": "Python 3",
   "language": "python",
   "name": "python3"
  },
  "language_info": {
   "codemirror_mode": {
    "name": "ipython",
    "version": 3
   },
   "file_extension": ".py",
   "mimetype": "text/x-python",
   "name": "python",
   "nbconvert_exporter": "python",
   "pygments_lexer": "ipython3",
   "version": "3.7.4"
  }
 },
 "nbformat": 4,
 "nbformat_minor": 2
}
